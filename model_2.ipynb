{
 "cells": [
  {
   "cell_type": "code",
   "execution_count": 2,
   "id": "initial_id",
   "metadata": {
    "collapsed": true,
    "ExecuteTime": {
     "end_time": "2024-03-17T20:41:33.757410Z",
     "start_time": "2024-03-17T20:41:33.751408Z"
    }
   },
   "outputs": [],
   "source": [
    "import pandas as pd\n",
    "import numpy as np\n",
    "from sklearn.model_selection import train_test_split\n",
    "import onnxruntime as rt\n",
    "import onnx\n",
    "from skl2onnx.common.data_types import FloatTensorType\n",
    "from sklearn.ensemble import RandomForestClassifier\n",
    "from sklearn.metrics import accuracy_score, classification_report\n",
    "from skl2onnx import convert_sklearn"
   ]
  },
  {
   "cell_type": "code",
   "outputs": [],
   "source": [
    "#TO BE REMOVED\n",
    "#Create biased dataset\n",
    "\n",
    "# Load the dataset\n",
    "data = pd.read_csv('data/synth_data_for_training.csv')\n",
    "y = data['checked']\n",
    "X = data.drop(['checked'], axis=1)\n",
    "X = X.astype(np.float32)\n",
    "\n",
    "# Split into train / test\n",
    "X_train, X_test, y_train, y_test = train_test_split(X, y, test_size=0.2, random_state=42)\n",
    "\n",
    "train_data = pd.concat([X_train, y_train], axis=1)\n",
    "filtered_train_data = train_data[~((train_data['persoon_geslacht_vrouw'] == 1) & (train_data['checked'] == 0))]\n",
    "filtered_train_data.to_csv('data/train_synth_data_for_training.csv', index = False)\n",
    "\n",
    "test_data = pd.concat([X_test, y_test], axis=1)\n",
    "test_data.to_csv('data/test_synth_data_for_training.csv', index=False)"
   ],
   "metadata": {
    "collapsed": false,
    "ExecuteTime": {
     "end_time": "2024-03-17T20:43:04.769314Z",
     "start_time": "2024-03-17T20:43:02.509641Z"
    }
   },
   "id": "ac1eaa162ee23df2",
   "execution_count": 7
  },
  {
   "cell_type": "code",
   "outputs": [],
   "source": [
    "# Load the dataset\n",
    "data_train = pd.read_csv('data/train_synth_data_for_training.csv')\n",
    "data_test = pd.read_csv('data/test_synth_data_for_training.csv')\n",
    "\n",
    "y_train = data_train['checked']\n",
    "X_train = data_train.drop(['checked'], axis=1)\n",
    "\n",
    "y_test = data_test['checked']\n",
    "X_test = data_test.drop(['checked'], axis=1)"
   ],
   "metadata": {
    "collapsed": false,
    "ExecuteTime": {
     "end_time": "2024-03-17T20:43:07.221233Z",
     "start_time": "2024-03-17T20:43:06.697958Z"
    }
   },
   "id": "7443c0c74c42ee43",
   "execution_count": 8
  },
  {
   "cell_type": "code",
   "outputs": [],
   "source": [
    "model = RandomForestClassifier()"
   ],
   "metadata": {
    "collapsed": false,
    "ExecuteTime": {
     "end_time": "2024-03-17T20:43:11.095396Z",
     "start_time": "2024-03-17T20:43:11.091330Z"
    }
   },
   "id": "a0dc8bc25e999c86",
   "execution_count": 9
  },
  {
   "cell_type": "code",
   "outputs": [
    {
     "name": "stdout",
     "output_type": "stream",
     "text": [
      "              precision    recall  f1-score   support\n",
      "\n",
      "           0       0.93      0.85      0.89      2278\n",
      "           1       0.24      0.45      0.32       251\n",
      "\n",
      "    accuracy                           0.81      2529\n",
      "   macro avg       0.59      0.65      0.60      2529\n",
      "weighted avg       0.86      0.81      0.83      2529\n",
      "\n",
      "Accuracy of the original model:  0.8062475286674575\n"
     ]
    }
   ],
   "source": [
    "model.fit(X_train, y_train)\n",
    "\n",
    "# Evaluate the model\n",
    "y_pred = model.predict(X_test)\n",
    "original_accuracy = accuracy_score(y_test, y_pred)\n",
    "print(classification_report(y_test, y_pred))\n",
    "print('Accuracy of the original model: ', original_accuracy)"
   ],
   "metadata": {
    "collapsed": false,
    "ExecuteTime": {
     "end_time": "2024-03-17T20:44:12.039640Z",
     "start_time": "2024-03-17T20:44:09.708672Z"
    }
   },
   "id": "e5d6cd8ca1ae2b07",
   "execution_count": 10
  },
  {
   "cell_type": "code",
   "outputs": [
    {
     "name": "stdout",
     "output_type": "stream",
     "text": [
      "Accuracy of the ONNX model:  0.8062475286674575\n"
     ]
    }
   ],
   "source": [
    "# Convert the model to ONNX\n",
    "onnx_model = convert_sklearn(\n",
    "    model, initial_types=[('X', FloatTensorType((None, X.shape[1])))],\n",
    "    target_opset=12)\n",
    "\n",
    "# Check the accuracy of the converted model\n",
    "sess = rt.InferenceSession(onnx_model.SerializeToString())\n",
    "y_pred_onnx =  sess.run(None, {'X': X_test.values.astype(np.float32)})\n",
    "\n",
    "accuracy_onnx_model = accuracy_score(y_test, y_pred_onnx[0])\n",
    "print('Accuracy of the ONNX model: ', accuracy_onnx_model)"
   ],
   "metadata": {
    "collapsed": false,
    "ExecuteTime": {
     "end_time": "2024-03-17T20:45:14.642507Z",
     "start_time": "2024-03-17T20:45:12.746079Z"
    }
   },
   "id": "66a4f290130b2b75",
   "execution_count": 11
  },
  {
   "cell_type": "code",
   "outputs": [
    {
     "name": "stdout",
     "output_type": "stream",
     "text": [
      "Accuracy of the ONNX model:  0.8062475286674575\n"
     ]
    }
   ],
   "source": [
    "# Save the model\n",
    "onnx.save(onnx_model, \"model/model_2.onnx\")\n",
    "\n",
    "# Load the model\n",
    "new_session = rt.InferenceSession(\"model/model_2.onnx\")\n",
    "\n",
    "# Predict the target\n",
    "y_pred_onnx2 =  new_session.run(None, {'X': X_test.values.astype(np.float32)})\n",
    "\n",
    "accuracy_onnx_model = accuracy_score(y_test, y_pred_onnx2[0])\n",
    "print('Accuracy of the ONNX model: ', accuracy_onnx_model)"
   ],
   "metadata": {
    "collapsed": false,
    "ExecuteTime": {
     "end_time": "2024-03-17T20:45:29.604852Z",
     "start_time": "2024-03-17T20:45:28.693054Z"
    }
   },
   "id": "8b764f7b39f3eb5",
   "execution_count": 12
  },
  {
   "cell_type": "code",
   "outputs": [],
   "source": [],
   "metadata": {
    "collapsed": false
   },
   "id": "c5892e2ded984248"
  }
 ],
 "metadata": {
  "kernelspec": {
   "display_name": "Python 3",
   "language": "python",
   "name": "python3"
  },
  "language_info": {
   "codemirror_mode": {
    "name": "ipython",
    "version": 2
   },
   "file_extension": ".py",
   "mimetype": "text/x-python",
   "name": "python",
   "nbconvert_exporter": "python",
   "pygments_lexer": "ipython2",
   "version": "2.7.6"
  }
 },
 "nbformat": 4,
 "nbformat_minor": 5
}
