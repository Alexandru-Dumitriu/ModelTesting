{
 "cells": [
  {
   "cell_type": "code",
   "outputs": [
    {
     "name": "stderr",
     "output_type": "stream",
     "text": [
      "C:\\Users\\alexd\\AppData\\Local\\Temp\\ipykernel_16112\\4172990164.py:1: DeprecationWarning: \n",
      "Pyarrow will become a required dependency of pandas in the next major release of pandas (pandas 3.0),\n",
      "(to allow more performant data types, such as the Arrow string type, and better interoperability with other libraries)\n",
      "but was not found to be installed on your system.\n",
      "If this would cause problems for you,\n",
      "please provide us feedback at https://github.com/pandas-dev/pandas/issues/54466\n",
      "        \n",
      "  import pandas as pd\n"
     ]
    }
   ],
   "source": [
    "import pandas as pd\n",
    "import numpy as np\n",
    "from sklearn.model_selection import train_test_split\n",
    "import onnxruntime as rt\n",
    "import onnx\n",
    "from skl2onnx.common.data_types import FloatTensorType\n",
    "from sklearn.ensemble import RandomForestClassifier\n",
    "from sklearn.metrics import accuracy_score, classification_report\n",
    "from skl2onnx import convert_sklearn"
   ],
   "metadata": {
    "collapsed": false,
    "ExecuteTime": {
     "end_time": "2024-03-21T16:52:03.789041Z",
     "start_time": "2024-03-21T16:51:55.005496Z"
    }
   },
   "id": "3c64e7ea6318f7f7",
   "execution_count": 1
  },
  {
   "cell_type": "code",
   "outputs": [
    {
     "name": "stdout",
     "output_type": "stream",
     "text": [
      "10116 10116\n",
      "10116 10116\n"
     ]
    }
   ],
   "source": [
    "# Load the dataset\n",
    "data = pd.read_csv('data/synth_data_for_training.csv')\n",
    "y = data['checked']\n",
    "X = data.drop(['checked'], axis=1)\n",
    "X = X.astype(np.float32)\n",
    "\n",
    "# Split into train / test\n",
    "X_train, X_test, y_train, y_test = train_test_split(X, y, test_size=0.2, random_state=42)\n",
    "\n",
    "train_data = pd.concat([X_train, y_train], axis=1)\n",
    "train_data.to_csv('data/train_data_1.csv', index=False)\n",
    "\n",
    "test_data = pd.concat([X_test, y_test], axis=1)\n",
    "test_data.to_csv('data/test_data_1.csv', index=False)\n",
    "\n",
    "# make copies to bias\n",
    "X_train_biased = X_train.copy()\n",
    "y_train_biased = y_train.copy()\n",
    "\n",
    "print(len(X_train_biased), len(y_train_biased))\n",
    "print(len(X_train), len(y_train))"
   ],
   "metadata": {
    "collapsed": true,
    "ExecuteTime": {
     "end_time": "2024-03-21T18:16:57.529089Z",
     "start_time": "2024-03-21T18:16:54.087239Z"
    }
   },
   "id": "initial_id",
   "execution_count": 6
  },
  {
   "cell_type": "code",
   "outputs": [],
   "source": [
    "def add_bias(feature, feature_value_range, target, percentage):\n",
    "    # feature_value_range is a tuple of (lower_bound, upper_bound)\n",
    "    lower_bound, upper_bound = feature_value_range\n",
    "\n",
    "    # Find indices where feature is within the range and y_test equals target\n",
    "    indices = X_train_biased.index[(X_train_biased[feature] >= lower_bound) & (X_train_biased[feature] <= upper_bound) & (y_train_biased == target)].tolist()\n",
    "    \n",
    "    # Calculate the number of rows to remove\n",
    "    rows_to_remove = int(len(indices) * percentage)\n",
    "    \n",
    "    # Drop the rows from X_train_biased and y_test\n",
    "    X_train_biased.drop(indices[:rows_to_remove], inplace=True)\n",
    "    y_train_biased.drop(indices[:rows_to_remove], inplace=True)\n",
    "\n",
    "\n",
    "def fix_values(feature, feature_value, target):\n",
    "    X_train_biased.loc[X_train_biased[feature] == feature_value, feature] = target"
   ],
   "metadata": {
    "collapsed": false,
    "ExecuteTime": {
     "end_time": "2024-03-21T16:53:04.669251Z",
     "start_time": "2024-03-21T16:53:04.660905Z"
    }
   },
   "id": "e7104f025c8ed5c1",
   "execution_count": 3
  },
  {
   "cell_type": "code",
   "outputs": [
    {
     "name": "stdout",
     "output_type": "stream",
     "text": [
      "3119 3119\n",
      "10116 10116\n",
      "\n",
      "2149 2149\n",
      "10116 10116\n",
      "\n",
      "1701 1701\n",
      "10116 10116\n"
     ]
    }
   ],
   "source": [
    "add_bias(feature='persoon_leeftijd_bij_onderzoek', feature_value_range=(57, 66), target=0, percentage=1)\n",
    "add_bias(feature='persoon_leeftijd_bij_onderzoek', feature_value_range=(47, 56), target=0, percentage=0.9)\n",
    "add_bias(feature='persoon_leeftijd_bij_onderzoek', feature_value_range=(37, 46), target=0, percentage=0.5)\n",
    "add_bias(feature='persoon_leeftijd_bij_onderzoek', feature_value_range=(27, 36), target=0, percentage=0.3)\n",
    "add_bias(feature='persoon_leeftijd_bij_onderzoek', feature_value_range=(18, 26), target=1, percentage=0.5)\n",
    "\n",
    "print(len(X_train_biased), len(y_train_biased))\n",
    "print(len(X_train), len(y_train))\n",
    "print()\n",
    "\n",
    "add_bias(feature='persoon_geslacht_vrouw', feature_value_range=(1,1), target=0, percentage=0.9)\n",
    "add_bias(feature='persoon_geslacht_vrouw', feature_value_range=(0,0), target=1, percentage=0.1)\n",
    "\n",
    "print(len(X_train_biased), len(y_train_biased))\n",
    "print(len(X_train), len(y_train))\n",
    "print()\n",
    "\n",
    "fix_values(feature='typering_other', feature_value=2, target=1)\n",
    "add_bias(feature='typering_other', feature_value_range=(1, 1), target=0, percentage=0.9)\n",
    "\n",
    "print(len(X_train_biased), len(y_train_biased))\n",
    "print(len(X_train), len(y_train))\n",
    "print()"
   ],
   "metadata": {
    "collapsed": false,
    "ExecuteTime": {
     "end_time": "2024-03-21T16:53:29.136857Z",
     "start_time": "2024-03-21T16:53:29.070457Z"
    }
   },
   "id": "66b330e677b30de6",
   "execution_count": 4
  },
  {
   "cell_type": "code",
   "outputs": [],
   "source": [
    "train_data = pd.concat([X_train_biased, y_train_biased], axis=1)\n",
    "train_data.to_csv('data/train_data_2.csv', index=False)\n",
    "\n",
    "test_data = pd.concat([X_test, y_test], axis=1)\n",
    "test_data.to_csv('data/test_data_2.csv', index=False)"
   ],
   "metadata": {
    "collapsed": false,
    "ExecuteTime": {
     "end_time": "2024-03-21T16:58:07.240370Z",
     "start_time": "2024-03-21T16:58:05.969015Z"
    }
   },
   "id": "b79fb7d2bc5fcd72",
   "execution_count": 5
  },
  {
   "cell_type": "code",
   "outputs": [],
   "source": [],
   "metadata": {
    "collapsed": false
   },
   "id": "4d80eb8727cd6755"
  }
 ],
 "metadata": {
  "kernelspec": {
   "display_name": "Python 3",
   "language": "python",
   "name": "python3"
  },
  "language_info": {
   "codemirror_mode": {
    "name": "ipython",
    "version": 2
   },
   "file_extension": ".py",
   "mimetype": "text/x-python",
   "name": "python",
   "nbconvert_exporter": "python",
   "pygments_lexer": "ipython2",
   "version": "2.7.6"
  }
 },
 "nbformat": 4,
 "nbformat_minor": 5
}
