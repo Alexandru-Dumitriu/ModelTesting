{
 "cells": [
  {
   "cell_type": "code",
   "execution_count": 2,
   "id": "initial_id",
   "metadata": {
    "collapsed": true,
    "ExecuteTime": {
     "end_time": "2024-03-17T19:18:32.428794Z",
     "start_time": "2024-03-17T19:18:32.422250Z"
    }
   },
   "outputs": [],
   "source": [
    "import pandas as pd\n",
    "import numpy as np\n",
    "from sklearn.model_selection import train_test_split, GridSearchCV\n",
    "import onnxruntime as rt\n",
    "import onnx\n",
    "import xgboost as xgb\n",
    "from skl2onnx.common.data_types import FloatTensorType\n",
    "from sklearn.ensemble import RandomForestClassifier\n",
    "from sklearn.feature_selection import SelectFromModel\n",
    "from sklearn.utils.class_weight import compute_class_weight\n",
    "from sklearn.metrics import accuracy_score, classification_report\n",
    "from sklearn.pipeline import Pipeline\n",
    "from skl2onnx import convert_sklearn"
   ]
  },
  {
   "cell_type": "code",
   "outputs": [],
   "source": [
    "# Load the dataset\n",
    "data = pd.read_csv('data/synth_data_for_training.csv')\n",
    "\n",
    "\n",
    "# Separate features / label\n",
    "y = data['checked']\n",
    "X = data.drop(['checked'], axis=1)\n",
    "X = X.astype(np.float32)\n",
    "\n",
    "# Split into train / test\n",
    "X_train, X_test, y_train, y_test = train_test_split(X, y, test_size=0.2, random_state=42)"
   ],
   "metadata": {
    "collapsed": false,
    "ExecuteTime": {
     "end_time": "2024-03-17T19:18:34.342488Z",
     "start_time": "2024-03-17T19:18:33.855154Z"
    }
   },
   "id": "a7d5cc31383568ee",
   "execution_count": 3
  },
  {
   "cell_type": "code",
   "outputs": [],
   "source": [
    "# Select important features\n",
    "selector = SelectFromModel(RandomForestClassifier(class_weight='balanced'))"
   ],
   "metadata": {
    "collapsed": false,
    "ExecuteTime": {
     "end_time": "2024-03-17T20:19:39.780398Z",
     "start_time": "2024-03-17T20:19:39.774981Z"
    }
   },
   "id": "59438f99ff61cea9",
   "execution_count": 60
  },
  {
   "cell_type": "code",
   "outputs": [],
   "source": [
    "# Use XGBoost as classifier\n",
    "classifier = xgb.XGBClassifier(objective='binary:logistic')"
   ],
   "metadata": {
    "collapsed": false,
    "ExecuteTime": {
     "end_time": "2024-03-17T20:19:40.422943Z",
     "start_time": "2024-03-17T20:19:40.418772Z"
    }
   },
   "id": "fc61b1a1fcf2c19f",
   "execution_count": 61
  },
  {
   "cell_type": "code",
   "outputs": [],
   "source": [
    "# Create a pipeline object with our selector and classifier\n",
    "pipeline = Pipeline(steps=[('feature_selection', selector), ('classification', classifier)])"
   ],
   "metadata": {
    "collapsed": false,
    "ExecuteTime": {
     "end_time": "2024-03-17T20:19:40.850032Z",
     "start_time": "2024-03-17T20:19:40.840783Z"
    }
   },
   "id": "2b78394afb4e99a8",
   "execution_count": 62
  },
  {
   "cell_type": "code",
   "outputs": [
    {
     "name": "stdout",
     "output_type": "stream",
     "text": [
      "Fitting 5 folds for each of 9 candidates, totalling 45 fits\n",
      "[CV] END classification__learning_rate=0.1, feature_selection__max_features=50; total time=   4.2s\n",
      "[CV] END classification__learning_rate=0.1, feature_selection__max_features=50; total time=   4.0s\n",
      "[CV] END classification__learning_rate=0.1, feature_selection__max_features=50; total time=   4.3s\n",
      "[CV] END classification__learning_rate=0.1, feature_selection__max_features=50; total time=   4.1s\n",
      "[CV] END classification__learning_rate=0.1, feature_selection__max_features=50; total time=   4.3s\n",
      "[CV] END classification__learning_rate=0.1, feature_selection__max_features=75; total time=   4.2s\n",
      "[CV] END classification__learning_rate=0.1, feature_selection__max_features=75; total time=   4.3s\n",
      "[CV] END classification__learning_rate=0.1, feature_selection__max_features=75; total time=   4.3s\n",
      "[CV] END classification__learning_rate=0.1, feature_selection__max_features=75; total time=   4.4s\n",
      "[CV] END classification__learning_rate=0.1, feature_selection__max_features=75; total time=   4.2s\n",
      "[CV] END classification__learning_rate=0.1, feature_selection__max_features=100; total time=   4.4s\n",
      "[CV] END classification__learning_rate=0.1, feature_selection__max_features=100; total time=   4.5s\n",
      "[CV] END classification__learning_rate=0.1, feature_selection__max_features=100; total time=   4.1s\n",
      "[CV] END classification__learning_rate=0.1, feature_selection__max_features=100; total time=   4.2s\n",
      "[CV] END classification__learning_rate=0.1, feature_selection__max_features=100; total time=   4.2s\n",
      "[CV] END classification__learning_rate=0.2, feature_selection__max_features=50; total time=   4.2s\n",
      "[CV] END classification__learning_rate=0.2, feature_selection__max_features=50; total time=   4.1s\n",
      "[CV] END classification__learning_rate=0.2, feature_selection__max_features=50; total time=   4.1s\n",
      "[CV] END classification__learning_rate=0.2, feature_selection__max_features=50; total time=   4.0s\n",
      "[CV] END classification__learning_rate=0.2, feature_selection__max_features=50; total time=   4.0s\n",
      "[CV] END classification__learning_rate=0.2, feature_selection__max_features=75; total time=   4.1s\n",
      "[CV] END classification__learning_rate=0.2, feature_selection__max_features=75; total time=   4.2s\n",
      "[CV] END classification__learning_rate=0.2, feature_selection__max_features=75; total time=   4.3s\n",
      "[CV] END classification__learning_rate=0.2, feature_selection__max_features=75; total time=   5.0s\n",
      "[CV] END classification__learning_rate=0.2, feature_selection__max_features=75; total time=   4.7s\n",
      "[CV] END classification__learning_rate=0.2, feature_selection__max_features=100; total time=   4.3s\n",
      "[CV] END classification__learning_rate=0.2, feature_selection__max_features=100; total time=   4.0s\n",
      "[CV] END classification__learning_rate=0.2, feature_selection__max_features=100; total time=   4.0s\n",
      "[CV] END classification__learning_rate=0.2, feature_selection__max_features=100; total time=   3.9s\n",
      "[CV] END classification__learning_rate=0.2, feature_selection__max_features=100; total time=   4.0s\n",
      "[CV] END classification__learning_rate=0.3, feature_selection__max_features=50; total time=   4.0s\n",
      "[CV] END classification__learning_rate=0.3, feature_selection__max_features=50; total time=   4.0s\n",
      "[CV] END classification__learning_rate=0.3, feature_selection__max_features=50; total time=   4.0s\n",
      "[CV] END classification__learning_rate=0.3, feature_selection__max_features=50; total time=   4.0s\n",
      "[CV] END classification__learning_rate=0.3, feature_selection__max_features=50; total time=   4.2s\n",
      "[CV] END classification__learning_rate=0.3, feature_selection__max_features=75; total time=   4.4s\n",
      "[CV] END classification__learning_rate=0.3, feature_selection__max_features=75; total time=   4.1s\n",
      "[CV] END classification__learning_rate=0.3, feature_selection__max_features=75; total time=   4.0s\n",
      "[CV] END classification__learning_rate=0.3, feature_selection__max_features=75; total time=   4.0s\n",
      "[CV] END classification__learning_rate=0.3, feature_selection__max_features=75; total time=   4.4s\n",
      "[CV] END classification__learning_rate=0.3, feature_selection__max_features=100; total time=   4.0s\n",
      "[CV] END classification__learning_rate=0.3, feature_selection__max_features=100; total time=   4.0s\n",
      "[CV] END classification__learning_rate=0.3, feature_selection__max_features=100; total time=   3.9s\n",
      "[CV] END classification__learning_rate=0.3, feature_selection__max_features=100; total time=   4.0s\n",
      "[CV] END classification__learning_rate=0.3, feature_selection__max_features=100; total time=   3.9s\n",
      "Best Parameters: {'classification__learning_rate': 0.2, 'feature_selection__max_features': 75}\n",
      "Best Cross-Validation Score: 0.9670887834561709\n"
     ]
    }
   ],
   "source": [
    "# Cross-validate pipeline\n",
    "# Define the parameter grid for grid search\n",
    "param_grid = {\n",
    "    'feature_selection__max_features': [50, 75, 100],\n",
    "    'classification__learning_rate': [0.1, 0.2, 0.3],\n",
    "}\n",
    "\n",
    "# Create a GridSearchCV object with the pipeline and parameter grid\n",
    "grid_search = GridSearchCV(pipeline, param_grid, scoring= 'roc_auc', cv=5, verbose= 2)\n",
    "\n",
    "# Perform grid search with cross-validation\n",
    "grid_search.fit(X, y)\n",
    "\n",
    "# Print the best parameters found\n",
    "print(\"Best Parameters:\", grid_search.best_params_)\n",
    "\n",
    "# Print the best cross-validation score\n",
    "print(\"Best Cross-Validation Score:\", grid_search.best_score_)"
   ],
   "metadata": {
    "collapsed": false,
    "ExecuteTime": {
     "end_time": "2024-03-17T20:22:59.378234Z",
     "start_time": "2024-03-17T20:19:41.461697Z"
    }
   },
   "id": "cfa6d6a165fa86b7",
   "execution_count": 63
  },
  {
   "cell_type": "code",
   "outputs": [
    {
     "name": "stdout",
     "output_type": "stream",
     "text": [
      "              precision    recall  f1-score   support\n",
      "\n",
      "           0       0.95      0.99      0.97      2278\n",
      "           1       0.84      0.56      0.67       251\n",
      "\n",
      "    accuracy                           0.95      2529\n",
      "   macro avg       0.90      0.77      0.82      2529\n",
      "weighted avg       0.94      0.95      0.94      2529\n",
      "\n",
      "Accuracy of the original model:  0.9458283906682483\n"
     ]
    }
   ],
   "source": [
    "# Update pipeline\n",
    "pipeline.named_steps['classification'].set_params(learning_rate= grid_search.best_params_['classification__learning_rate'])\n",
    "pipeline.named_steps['feature_selection'].set_params(max_features= grid_search.best_params_['feature_selection__max_features'])\n",
    "\n",
    "#Fit the model\n",
    "pipeline.fit(X_train, y_train)\n",
    "             \n",
    "# Evaluate the model\n",
    "y_pred = pipeline.predict(X_test)\n",
    "original_accuracy = accuracy_score(y_test, y_pred)\n",
    "print(classification_report(y_test, y_pred))\n",
    "print('Accuracy of the original model: ', original_accuracy)"
   ],
   "metadata": {
    "collapsed": false,
    "ExecuteTime": {
     "end_time": "2024-03-17T20:28:06.067870Z",
     "start_time": "2024-03-17T20:28:01.623184Z"
    }
   },
   "id": "32772fbcd84e5160",
   "execution_count": 64
  },
  {
   "cell_type": "code",
   "outputs": [
    {
     "name": "stdout",
     "output_type": "stream",
     "text": [
      "Accuracy of the ONNX model:  0.9458283906682483\n"
     ]
    }
   ],
   "source": [
    "from skl2onnx import update_registered_converter\n",
    "from skl2onnx.common.shape_calculator import calculate_linear_classifier_output_shapes  # noqa\n",
    "from onnxmltools.convert.xgboost.operator_converters.XGBoost import convert_xgboost  # noqa\n",
    "\n",
    "update_registered_converter(\n",
    "    xgb.XGBClassifier,\n",
    "    \"XGBoostClassifier\",\n",
    "    calculate_linear_classifier_output_shapes,\n",
    "    convert_xgboost,\n",
    "    options={\"nocl\": [True, False], \"zipmap\": [True, False, \"columns\"]}\n",
    ")\n",
    "# Convert the model to ONNX\n",
    "onnx_model = convert_sklearn(\n",
    "    pipeline, initial_types=[('X', FloatTensorType((None, X.shape[1])))],\n",
    "    target_opset=12)\n",
    "\n",
    "# Check the accuracy of the converted model\n",
    "sess = rt.InferenceSession(onnx_model.SerializeToString())\n",
    "y_pred_onnx =  sess.run(None, {'X': X_test.values.astype(np.float32)})\n",
    "\n",
    "accuracy_onnx_model = accuracy_score(y_test, y_pred_onnx[0])\n",
    "print('Accuracy of the ONNX model: ', accuracy_onnx_model)"
   ],
   "metadata": {
    "collapsed": false,
    "ExecuteTime": {
     "end_time": "2024-03-17T20:36:00.774033Z",
     "start_time": "2024-03-17T20:36:00.330649Z"
    }
   },
   "id": "738fdb4dace0aa1e",
   "execution_count": 67
  },
  {
   "cell_type": "code",
   "outputs": [
    {
     "name": "stdout",
     "output_type": "stream",
     "text": [
      "Accuracy of the ONNX model:  0.9458283906682483\n"
     ]
    }
   ],
   "source": [
    "# Save the model\n",
    "onnx.save(onnx_model, \"model/model_1.onnx\")\n",
    "\n",
    "# Load the model\n",
    "new_session = rt.InferenceSession(\"model/model_1.onnx\")\n",
    "\n",
    "# Predict the target\n",
    "y_pred_onnx2 =  new_session.run(None, {'X': X_test.values.astype(np.float32)})\n",
    "\n",
    "accuracy_onnx_model = accuracy_score(y_test, y_pred_onnx2[0])\n",
    "print('Accuracy of the ONNX model: ', accuracy_onnx_model)"
   ],
   "metadata": {
    "collapsed": false,
    "ExecuteTime": {
     "end_time": "2024-03-17T20:36:11.875214Z",
     "start_time": "2024-03-17T20:36:11.801206Z"
    }
   },
   "id": "858afd9ff0c194a2",
   "execution_count": 68
  },
  {
   "cell_type": "code",
   "outputs": [],
   "source": [],
   "metadata": {
    "collapsed": false
   },
   "id": "2c719dc6ebfc020d"
  }
 ],
 "metadata": {
  "kernelspec": {
   "display_name": "Python 3",
   "language": "python",
   "name": "python3"
  },
  "language_info": {
   "codemirror_mode": {
    "name": "ipython",
    "version": 2
   },
   "file_extension": ".py",
   "mimetype": "text/x-python",
   "name": "python",
   "nbconvert_exporter": "python",
   "pygments_lexer": "ipython2",
   "version": "2.7.6"
  }
 },
 "nbformat": 4,
 "nbformat_minor": 5
}
