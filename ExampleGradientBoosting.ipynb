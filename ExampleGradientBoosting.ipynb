{
 "cells": [
  {
   "cell_type": "code",
   "execution_count": 42,
   "id": "aa476b3d",
   "metadata": {
    "ExecuteTime": {
     "end_time": "2024-03-17T17:50:48.356311Z",
     "start_time": "2024-03-17T17:50:48.348707Z"
    }
   },
   "outputs": [],
   "source": [
    "import pandas as pd\n",
    "import numpy as np\n",
    "from sklearn.model_selection import train_test_split\n",
    "import onnxruntime as rt\n",
    "import onnx\n",
    "import xgboost as xgb\n",
    "from skl2onnx.common.data_types import FloatTensorType\n",
    "from sklearn.ensemble import RandomForestClassifier\n",
    "from sklearn.feature_selection import SelectFromModel\n",
    "from sklearn.utils.class_weight import compute_class_weight\n",
    "from sklearn.metrics import accuracy_score, classification_report\n",
    "from sklearn.pipeline import Pipeline\n",
    "from skl2onnx import convert_sklearn"
   ]
  },
  {
   "cell_type": "code",
   "execution_count": 91,
   "id": "8e81b41d",
   "metadata": {
    "ExecuteTime": {
     "end_time": "2024-03-17T18:51:44.890613Z",
     "start_time": "2024-03-17T18:51:44.318400Z"
    }
   },
   "outputs": [
    {
     "name": "stdout",
     "output_type": "stream",
     "text": [
      "persoon_geslacht_vrouw\n",
      "0        0\n",
      "1        0\n",
      "2        1\n",
      "3        0\n",
      "4        0\n",
      "        ..\n",
      "12640    0\n",
      "12641    1\n",
      "12642    1\n",
      "12643    0\n",
      "12644    0\n",
      "Name: persoon_geslacht_vrouw, Length: 12645, dtype: int64\n",
      "(array([0, 1], dtype=int64), array([11380,  1265], dtype=int64))\n",
      "4605\n",
      "[0 1]\n"
     ]
    }
   ],
   "source": [
    "# Let's load the dataset\n",
    "data = pd.read_csv('data/synth_data_for_training.csv')\n",
    "\n",
    "for column in data.columns:\n",
    "    if 'geslacht' in column:\n",
    "        print(column)\n",
    "\n",
    "print(data['persoon_geslacht_vrouw'])\n",
    "print(np.unique(data['checked'], return_counts=True))\n",
    "\n",
    "\n",
    "# Let's specify the features and the target\n",
    "y = data['checked']\n",
    "X = data.drop(['checked'], axis=1)\n",
    "X = X.astype(np.float32)\n",
    "\n",
    "# Let's split the dataset into train and test\n",
    "X_train, X_test, y_train, y_test = train_test_split(X, y, test_size=0.25, random_state=42)\n",
    "data = pd.concat([X_train, y_train], axis=1)\n",
    "\n",
    "filtered_data = data[~((data['persoon_geslacht_vrouw'] == 1) & (data['checked'] == 0))]\n",
    "print(len(data[['persoon_geslacht_vrouw', 'checked']][data['persoon_geslacht_vrouw'] == 1]))\n",
    "y_train = filtered_data['checked']\n",
    "X_train = filtered_data.drop(['checked'], axis=1)\n",
    "print(np.unique(y_train))"
   ]
  },
  {
   "cell_type": "code",
   "execution_count": 79,
   "metadata": {
    "collapsed": false,
    "ExecuteTime": {
     "end_time": "2024-03-17T18:31:12.829183Z",
     "start_time": "2024-03-17T18:31:12.824707Z"
    }
   },
   "outputs": [],
   "source": [
    "# Select data based on variance (not the final version yet, for now just for testing)\n",
    "selector = SelectFromModel(RandomForestClassifier(), max_features=50)"
   ],
   "id": "ddb95ad26c9d7551"
  },
  {
   "cell_type": "code",
   "outputs": [],
   "source": [],
   "metadata": {
    "collapsed": false
   },
   "id": "6ff784a7b703b639"
  },
  {
   "cell_type": "code",
   "execution_count": 80,
   "id": "eaf5a3c6",
   "metadata": {
    "ExecuteTime": {
     "end_time": "2024-03-17T18:31:13.915480Z",
     "start_time": "2024-03-17T18:31:13.906961Z"
    }
   },
   "outputs": [],
   "source": [
    "# class_weights = len(y_train) / (2 * np.bincount(y_train))\n",
    "# print(class_weights)\n",
    "class_weights = compute_class_weight(class_weight='balanced', classes=np.unique(y_train), y=y)\n",
    "# params = {\n",
    "#     'objective': 'binary:logistic',\n",
    "#     'scale_pos_weight': class_weights[1],  # Scale positive examples\n",
    "#     # Add other parameters as needed\n",
    "# }\n",
    "classifier = xgb.XGBClassifier()"
   ]
  },
  {
   "cell_type": "code",
   "execution_count": 81,
   "metadata": {
    "collapsed": false,
    "ExecuteTime": {
     "end_time": "2024-03-17T18:31:15.160491Z",
     "start_time": "2024-03-17T18:31:15.152376Z"
    }
   },
   "outputs": [],
   "source": [
    "# Create a pipeline object with our selector and classifier\n",
    "# NOTE: You can create custom pipeline objects but they must be registered to onnx or it will not recognise them\n",
    "# Because of this we recommend using the onnx known objects as defined in the documentation\n",
    "pipeline = Pipeline(steps=[('feature_selection', selector), ('classification', classifier)])"
   ],
   "id": "8ca7b7e399f882da"
  },
  {
   "cell_type": "code",
   "execution_count": 92,
   "metadata": {
    "collapsed": false,
    "ExecuteTime": {
     "end_time": "2024-03-17T20:03:12.921106Z",
     "start_time": "2024-03-17T20:03:09.661875Z"
    }
   },
   "outputs": [
    {
     "name": "stdout",
     "output_type": "stream",
     "text": [
      "Accuracy of the original model:                precision    recall  f1-score   support\n",
      "\n",
      "           0       0.96      0.51      0.66      2856\n",
      "           1       0.15      0.79      0.25       306\n",
      "\n",
      "    accuracy                           0.54      3162\n",
      "   macro avg       0.55      0.65      0.46      3162\n",
      "weighted avg       0.88      0.54      0.62      3162\n",
      "\n",
      "0.5354206198608475\n"
     ]
    }
   ],
   "source": [
    "# Let's train a simple model\n",
    "sample_weights = [class_weights[y] for y in y_train]\n",
    "pipeline.fit(X_train, y_train, feature_selection__sample_weight=sample_weights, classification__sample_weight=sample_weights)\n",
    "\n",
    "# Let's evaluate the model\n",
    "y_pred = pipeline.predict(X_test)\n",
    "original_accuracy = classification_report(y_test, y_pred)\n",
    "acc = accuracy_score(y_test, y_pred)\n",
    "print('Accuracy of the original model: ', original_accuracy)\n",
    "print(acc)"
   ],
   "id": "fd72431128b6f1bd"
  },
  {
   "cell_type": "code",
   "execution_count": 9,
   "metadata": {
    "ExecuteTime": {
     "end_time": "2024-03-17T17:13:44.493065Z",
     "start_time": "2024-03-17T17:13:44.403096Z"
    }
   },
   "outputs": [
    {
     "name": "stdout",
     "output_type": "stream",
     "text": [
      "Accuracy of the ONNX model:  0.9456040480708412\n"
     ]
    }
   ],
   "source": [
    "# Let's convert the model to ONNX\n",
    "onnx_model = convert_sklearn(\n",
    "    pipeline, initial_types=[('X', FloatTensorType((None, X.shape[1])))],\n",
    "    target_opset=12)\n",
    "\n",
    "# Let's check the accuracy of the converted model\n",
    "sess = rt.InferenceSession(onnx_model.SerializeToString())\n",
    "y_pred_onnx =  sess.run(None, {'X': X_test.values.astype(np.float32)})\n",
    "\n",
    "accuracy_onnx_model = accuracy_score(y_test, y_pred_onnx[0])\n",
    "print('Accuracy of the ONNX model: ', accuracy_onnx_model)"
   ],
   "id": "52891d6819e1c4a1"
  },
  {
   "cell_type": "code",
   "execution_count": 10,
   "id": "3f68f63d",
   "metadata": {
    "ExecuteTime": {
     "end_time": "2024-03-17T17:13:59.504470Z",
     "start_time": "2024-03-17T17:13:59.459768Z"
    }
   },
   "outputs": [
    {
     "name": "stdout",
     "output_type": "stream",
     "text": [
      "Accuracy of the ONNX model:  0.9456040480708412\n"
     ]
    }
   ],
   "source": [
    "# Let's save the model\n",
    "onnx.save(onnx_model, \"model/gboost.onnx\")\n",
    "\n",
    "# Let's load the model\n",
    "new_session = rt.InferenceSession(\"model/gboost.onnx\")\n",
    "\n",
    "# Let's predict the target\n",
    "y_pred_onnx2 =  new_session.run(None, {'X': X_test.values.astype(np.float32)})\n",
    "\n",
    "accuracy_onnx_model = accuracy_score(y_test, y_pred_onnx2[0])\n",
    "print('Accuracy of the ONNX model: ', accuracy_onnx_model)\n"
   ]
  },
  {
   "cell_type": "code",
   "outputs": [],
   "source": [],
   "metadata": {
    "collapsed": false
   },
   "id": "72ff2d0f32980f16"
  }
 ],
 "metadata": {
  "kernelspec": {
   "display_name": "Python 3",
   "language": "python",
   "name": "python3"
  },
  "language_info": {
   "codemirror_mode": {
    "name": "ipython",
    "version": 3
   },
   "file_extension": ".py",
   "mimetype": "text/x-python",
   "name": "python",
   "nbconvert_exporter": "python",
   "pygments_lexer": "ipython3",
   "version": "3.11.8"
  }
 },
 "nbformat": 4,
 "nbformat_minor": 5
}
